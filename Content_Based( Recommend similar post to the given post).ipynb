{
 "cells": [
  {
   "cell_type": "code",
   "execution_count": 1,
   "metadata": {},
   "outputs": [],
   "source": [
    "import pandas as pd\n",
    "import numpy as np\n",
    "from sklearn.feature_extraction.text import CountVectorizer\n",
    "from sklearn.metrics.pairwise import cosine_similarity"
   ]
  },
  {
   "cell_type": "code",
   "execution_count": 2,
   "metadata": {},
   "outputs": [],
   "source": [
    "df1 = pd.read_csv(\"users.csv\")\n",
    "df2 = pd.read_csv(\"posts.csv\")\n",
    "df3 = pd.read_csv(\"views.csv\")"
   ]
  },
  {
   "cell_type": "markdown",
   "metadata": {},
   "source": [
    "The below step of concatenation is not necessary"
   ]
  },
  {
   "cell_type": "code",
   "execution_count": 3,
   "metadata": {
    "collapsed": true
   },
   "outputs": [
    {
     "data": {
      "text/html": [
       "<div>\n",
       "<style scoped>\n",
       "    .dataframe tbody tr th:only-of-type {\n",
       "        vertical-align: middle;\n",
       "    }\n",
       "\n",
       "    .dataframe tbody tr th {\n",
       "        vertical-align: top;\n",
       "    }\n",
       "\n",
       "    .dataframe thead th {\n",
       "        text-align: right;\n",
       "    }\n",
       "</style>\n",
       "<table border=\"1\" class=\"dataframe\">\n",
       "  <thead>\n",
       "    <tr style=\"text-align: right;\">\n",
       "      <th></th>\n",
       "      <th>user_id</th>\n",
       "      <th>title</th>\n",
       "      <th>category</th>\n",
       "      <th>post_type</th>\n",
       "      <th>user_id</th>\n",
       "      <th>post_id</th>\n",
       "      <th>timestamp</th>\n",
       "    </tr>\n",
       "  </thead>\n",
       "  <tbody>\n",
       "    <tr>\n",
       "      <td>0</td>\n",
       "      <td>5d62abaa65218653a132c956</td>\n",
       "      <td>hello there</td>\n",
       "      <td>Plant Biotechnology</td>\n",
       "      <td>blog</td>\n",
       "      <td>5df49b32cc709107827fb3c7</td>\n",
       "      <td>5ec821ddec493f4a2655889e</td>\n",
       "      <td>2020-06-01T10:46:45.131Z</td>\n",
       "    </tr>\n",
       "    <tr>\n",
       "      <td>1</td>\n",
       "      <td>5d6d39567fa40e1417a4931c</td>\n",
       "      <td>Ml and AI</td>\n",
       "      <td>Artificial Intelligence|Machine Learning|Infor...</td>\n",
       "      <td>blog</td>\n",
       "      <td>5ed3748576027d35905ccaab</td>\n",
       "      <td>5ed4cbadbd514d602c1531a6</td>\n",
       "      <td>2020-06-01T09:39:20.021Z</td>\n",
       "    </tr>\n",
       "    <tr>\n",
       "      <td>2</td>\n",
       "      <td>5d7d23315720533e15c3b1ee</td>\n",
       "      <td>What is an Operating System ?</td>\n",
       "      <td>Operating Systems</td>\n",
       "      <td>blog</td>\n",
       "      <td>5ed0defa76027d35905cc2de</td>\n",
       "      <td>5eac305f10426255a7aa9dd3</td>\n",
       "      <td>2020-06-01T08:12:42.682Z</td>\n",
       "    </tr>\n",
       "    <tr>\n",
       "      <td>3</td>\n",
       "      <td>5d7d405e5720533e15c3b1f3</td>\n",
       "      <td>Lord Shiva</td>\n",
       "      <td>Drawings</td>\n",
       "      <td>artwork</td>\n",
       "      <td>5ed0defa76027d35905cc2de</td>\n",
       "      <td>5ed1ff0276027d35905cc60d</td>\n",
       "      <td>2020-06-01T08:10:23.880Z</td>\n",
       "    </tr>\n",
       "    <tr>\n",
       "      <td>4</td>\n",
       "      <td>5d80dfbc6c53455f896e600e</td>\n",
       "      <td>How Competition law evolved?</td>\n",
       "      <td>Competition Laws</td>\n",
       "      <td>blog</td>\n",
       "      <td>5ed0defa76027d35905cc2de</td>\n",
       "      <td>5ed3820f76027d35905ccac8</td>\n",
       "      <td>2020-06-01T08:08:54.124Z</td>\n",
       "    </tr>\n",
       "    <tr>\n",
       "      <td>...</td>\n",
       "      <td>...</td>\n",
       "      <td>...</td>\n",
       "      <td>...</td>\n",
       "      <td>...</td>\n",
       "      <td>...</td>\n",
       "      <td>...</td>\n",
       "      <td>...</td>\n",
       "    </tr>\n",
       "    <tr>\n",
       "      <td>1444</td>\n",
       "      <td>NaN</td>\n",
       "      <td>NaN</td>\n",
       "      <td>NaN</td>\n",
       "      <td>NaN</td>\n",
       "      <td>5d60098a653a331687083238</td>\n",
       "      <td>5e7a60edcfc8b713f5ac7d82</td>\n",
       "      <td>2020-03-26T19:03:55.284Z</td>\n",
       "    </tr>\n",
       "    <tr>\n",
       "      <td>1445</td>\n",
       "      <td>NaN</td>\n",
       "      <td>NaN</td>\n",
       "      <td>NaN</td>\n",
       "      <td>NaN</td>\n",
       "      <td>5d60098a653a331687083238</td>\n",
       "      <td>5e7a629ccfc8b713f5ac7d84</td>\n",
       "      <td>2020-03-26T19:01:42.384Z</td>\n",
       "    </tr>\n",
       "    <tr>\n",
       "      <td>1446</td>\n",
       "      <td>NaN</td>\n",
       "      <td>NaN</td>\n",
       "      <td>NaN</td>\n",
       "      <td>NaN</td>\n",
       "      <td>5d60098a653a331687083238</td>\n",
       "      <td>5e7b1e65cfc8b713f5ac7d90</td>\n",
       "      <td>2020-03-26T19:00:25.693Z</td>\n",
       "    </tr>\n",
       "    <tr>\n",
       "      <td>1447</td>\n",
       "      <td>NaN</td>\n",
       "      <td>NaN</td>\n",
       "      <td>NaN</td>\n",
       "      <td>NaN</td>\n",
       "      <td>5d60098a653a331687083238</td>\n",
       "      <td>5e7cc074cfc8b713f5ac7db0</td>\n",
       "      <td>2020-03-26T18:49:14.721Z</td>\n",
       "    </tr>\n",
       "    <tr>\n",
       "      <td>1448</td>\n",
       "      <td>NaN</td>\n",
       "      <td>NaN</td>\n",
       "      <td>NaN</td>\n",
       "      <td>NaN</td>\n",
       "      <td>5d60098a653a331687083238</td>\n",
       "      <td>5e1029f22a37d20505da2a79</td>\n",
       "      <td>2020-03-26T18:25:45.637Z</td>\n",
       "    </tr>\n",
       "  </tbody>\n",
       "</table>\n",
       "<p>1449 rows × 7 columns</p>\n",
       "</div>"
      ],
      "text/plain": [
       "                       user_id                          title  \\\n",
       "0     5d62abaa65218653a132c956                    hello there   \n",
       "1     5d6d39567fa40e1417a4931c                      Ml and AI   \n",
       "2     5d7d23315720533e15c3b1ee  What is an Operating System ?   \n",
       "3     5d7d405e5720533e15c3b1f3                     Lord Shiva   \n",
       "4     5d80dfbc6c53455f896e600e   How Competition law evolved?   \n",
       "...                        ...                            ...   \n",
       "1444                       NaN                            NaN   \n",
       "1445                       NaN                            NaN   \n",
       "1446                       NaN                            NaN   \n",
       "1447                       NaN                            NaN   \n",
       "1448                       NaN                            NaN   \n",
       "\n",
       "                                               category  post_type  \\\n",
       "0                                   Plant Biotechnology       blog   \n",
       "1     Artificial Intelligence|Machine Learning|Infor...       blog   \n",
       "2                                     Operating Systems       blog   \n",
       "3                                              Drawings    artwork   \n",
       "4                                      Competition Laws       blog   \n",
       "...                                                 ...        ...   \n",
       "1444                                                NaN        NaN   \n",
       "1445                                                NaN        NaN   \n",
       "1446                                                NaN        NaN   \n",
       "1447                                                NaN        NaN   \n",
       "1448                                                NaN        NaN   \n",
       "\n",
       "                       user_id                   post_id  \\\n",
       "0     5df49b32cc709107827fb3c7  5ec821ddec493f4a2655889e   \n",
       "1     5ed3748576027d35905ccaab  5ed4cbadbd514d602c1531a6   \n",
       "2     5ed0defa76027d35905cc2de  5eac305f10426255a7aa9dd3   \n",
       "3     5ed0defa76027d35905cc2de  5ed1ff0276027d35905cc60d   \n",
       "4     5ed0defa76027d35905cc2de  5ed3820f76027d35905ccac8   \n",
       "...                        ...                       ...   \n",
       "1444  5d60098a653a331687083238  5e7a60edcfc8b713f5ac7d82   \n",
       "1445  5d60098a653a331687083238  5e7a629ccfc8b713f5ac7d84   \n",
       "1446  5d60098a653a331687083238  5e7b1e65cfc8b713f5ac7d90   \n",
       "1447  5d60098a653a331687083238  5e7cc074cfc8b713f5ac7db0   \n",
       "1448  5d60098a653a331687083238  5e1029f22a37d20505da2a79   \n",
       "\n",
       "                     timestamp  \n",
       "0     2020-06-01T10:46:45.131Z  \n",
       "1     2020-06-01T09:39:20.021Z  \n",
       "2     2020-06-01T08:12:42.682Z  \n",
       "3     2020-06-01T08:10:23.880Z  \n",
       "4     2020-06-01T08:08:54.124Z  \n",
       "...                        ...  \n",
       "1444  2020-03-26T19:03:55.284Z  \n",
       "1445  2020-03-26T19:01:42.384Z  \n",
       "1446  2020-03-26T19:00:25.693Z  \n",
       "1447  2020-03-26T18:49:14.721Z  \n",
       "1448  2020-03-26T18:25:45.637Z  \n",
       "\n",
       "[1449 rows x 7 columns]"
      ]
     },
     "execution_count": 3,
     "metadata": {},
     "output_type": "execute_result"
    }
   ],
   "source": [
    "df1=df1.rename(columns={\"_id\":\"user_id\"})  \n",
    "df2=df2.rename(columns={\"_id\":\"user_id\"})\n",
    "\n",
    "df= pd.concat([df2,df3],axis=1,sort=True)\n",
    "df"
   ]
  },
  {
   "cell_type": "code",
   "execution_count": 4,
   "metadata": {},
   "outputs": [],
   "source": [
    "features = ['category','title','post_id']"
   ]
  },
  {
   "cell_type": "code",
   "execution_count": 5,
   "metadata": {},
   "outputs": [],
   "source": [
    "def combine_features(row):\n",
    "    try:\n",
    "        return row['category']+\" \"+row['title']+\" \"+row['post_id']\n",
    "    except:\n",
    "        print(\"Error:\", row)\n",
    "        \n",
    "    "
   ]
  },
  {
   "cell_type": "code",
   "execution_count": 6,
   "metadata": {},
   "outputs": [],
   "source": [
    "for feature in features:\n",
    "    df[feature] = df[feature].fillna('')\n",
    "\n",
    "df[\"combined_features\"] = df.apply(combine_features,axis=1)"
   ]
  },
  {
   "cell_type": "code",
   "execution_count": 7,
   "metadata": {},
   "outputs": [
    {
     "data": {
      "text/plain": [
       "'Plant Biotechnology hello there 5ec821ddec493f4a2655889e'"
      ]
     },
     "execution_count": 7,
     "metadata": {},
     "output_type": "execute_result"
    }
   ],
   "source": [
    "df.iloc[0].combined_features"
   ]
  },
  {
   "cell_type": "code",
   "execution_count": 8,
   "metadata": {},
   "outputs": [],
   "source": [
    "cv = CountVectorizer() \n",
    "count_matrix = cv.fit_transform(df[\"combined_features\"])"
   ]
  },
  {
   "cell_type": "code",
   "execution_count": 9,
   "metadata": {},
   "outputs": [],
   "source": [
    "cosine_sim = cosine_similarity(count_matrix)"
   ]
  },
  {
   "cell_type": "code",
   "execution_count": 10,
   "metadata": {},
   "outputs": [],
   "source": [
    "def get_title_from_index(index):\n",
    "  return df.loc[index, \"title\"]\n",
    "\n",
    "def get_index_from_title(title):\n",
    "  return df.loc[df.title == title].index[0]"
   ]
  },
  {
   "cell_type": "code",
   "execution_count": 11,
   "metadata": {},
   "outputs": [],
   "source": [
    "post_user_likes = \"Trident\"\n"
   ]
  },
  {
   "cell_type": "code",
   "execution_count": 12,
   "metadata": {},
   "outputs": [],
   "source": [
    "post_index = get_index_from_title(post_user_likes)\n",
    "similar_posts = list(enumerate(cosine_sim[post_index])) "
   ]
  },
  {
   "cell_type": "code",
   "execution_count": 13,
   "metadata": {},
   "outputs": [],
   "source": [
    "sorted_similar_posts = sorted(similar_posts,key=lambda x:x[1],reverse=True)[1:]"
   ]
  },
  {
   "cell_type": "code",
   "execution_count": 14,
   "metadata": {},
   "outputs": [
    {
     "name": "stdout",
     "output_type": "stream",
     "text": [
      "Top 10 similar posts to Trident are:\n",
      "\n",
      "Spartan\n",
      "OM\n",
      "Mahakaal\n",
      "Sketch\n",
      "Tea!\n",
      "Painting\n",
      "Piglet\n",
      "Time\n",
      "Shivshakti\n",
      "God\n",
      "Daaku\n"
     ]
    }
   ],
   "source": [
    "i=0\n",
    "print(\"Top 10 similar posts to \"+post_user_likes+\" are:\\n\")\n",
    "for element in sorted_similar_posts:\n",
    "    print(get_title_from_index(element[0]))\n",
    "    i=i+1\n",
    "    if i>10:\n",
    "        break"
   ]
  },
  {
   "cell_type": "code",
   "execution_count": null,
   "metadata": {},
   "outputs": [],
   "source": []
  }
 ],
 "metadata": {
  "kernelspec": {
   "display_name": "Python 3",
   "language": "python",
   "name": "python3"
  },
  "language_info": {
   "codemirror_mode": {
    "name": "ipython",
    "version": 3
   },
   "file_extension": ".py",
   "mimetype": "text/x-python",
   "name": "python",
   "nbconvert_exporter": "python",
   "pygments_lexer": "ipython3",
   "version": "3.7.4"
  }
 },
 "nbformat": 4,
 "nbformat_minor": 2
}
